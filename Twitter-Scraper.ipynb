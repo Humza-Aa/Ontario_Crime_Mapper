{
 "cells": [
  {
   "cell_type": "code",
   "execution_count": 2,
   "metadata": {},
   "outputs": [],
   "source": [
    "from getpass import getpass\n",
    "from time import sleep\n",
    "from selenium.webdriver.common.keys import Keys\n",
    "from selenium.common.exceptions import NoSuchElementException\n",
    "from selenium.webdriver.common.by import By\n",
    "from selenium import webdriver\n"
   ]
  },
  {
   "cell_type": "code",
   "execution_count": 3,
   "metadata": {},
   "outputs": [],
   "source": [
    "# Setting up driver\n",
    "driver = webdriver.Chrome()\n",
    "driver.maximize_window()\n",
    "driver.get('https://www.twitter.com/login')"
   ]
  },
  {
   "cell_type": "code",
   "execution_count": 4,
   "metadata": {},
   "outputs": [],
   "source": [
    "# Finding and inputing username\n",
    "username = driver.find_element(By.XPATH, \"//body/div[@id='react-root']/div[1]/div[1]/div[1]/div[1]/div[1]/div[1]/div[1]/div[1]/div[1]/div[2]/div[2]/div[1]/div[1]/div[2]/div[2]/div[1]/div[1]/div[1]/div[5]/label[1]/div[1]/div[2]/div[1]/input[1]\")\n",
    "username.send_keys('HumzaAamir88010')\n",
    "username.send_keys(Keys.RETURN)\n",
    "\n",
    "        \n"
   ]
  },
  {
   "cell_type": "code",
   "execution_count": 5,
   "metadata": {},
   "outputs": [],
   "source": [
    "mypassword = getpass()"
   ]
  },
  {
   "cell_type": "code",
   "execution_count": 6,
   "metadata": {},
   "outputs": [],
   "source": [
    "# Finding and inputing Password\n",
    "password = driver.find_element(By.XPATH, \"//body/div[@id='react-root']/div[1]/div[1]/div[1]/div[1]/div[1]/div[1]/div[1]/div[1]/div[1]/div[2]/div[2]/div[1]/div[1]/div[2]/div[2]/div[1]/div[1]/div[1]/div[3]/div[1]/label[1]/div[1]/div[2]/div[1]/input[1]\")\n",
    "password.send_keys(mypassword)\n",
    "password.send_keys(Keys.RETURN)\n"
   ]
  },
  {
   "cell_type": "code",
   "execution_count": 7,
   "metadata": {},
   "outputs": [],
   "source": [
    "# Selecting and searching required police section\n",
    "search = driver.find_element(By.XPATH, \"//body/div[@id='react-root']/div[1]/div[1]/div[2]/main[1]/div[1]/div[1]/div[1]/div[2]/div[1]/div[2]/div[1]/div[1]/div[1]/div[1]/div[1]/div[1]/div[1]/form[1]/div[1]/div[1]/div[1]/div[1]/label[1]/div[2]/div[1]/input[1]\")\n",
    "search.send_keys('@TPSOperations')\n",
    "search.send_keys(Keys.RETURN)\n"
   ]
  },
  {
   "cell_type": "code",
   "execution_count": 8,
   "metadata": {},
   "outputs": [],
   "source": [
    "SearchQuery = driver.find_element(By.XPATH, \"//span[contains(text(),'Toronto Police Operations')]\")\n",
    "SearchQuery.click()"
   ]
  },
  {
   "cell_type": "code",
   "execution_count": 9,
   "metadata": {},
   "outputs": [],
   "source": [
    "TPOPageTweets = driver.find_elements(By.XPATH, '//article[@data-testid=\"tweet\"]')\n"
   ]
  },
  {
   "cell_type": "code",
   "execution_count": 10,
   "metadata": {},
   "outputs": [
    {
     "data": {
      "text/plain": [
       "[<selenium.webdriver.remote.webelement.WebElement (session=\"26fff47b20c08029d9b03fb816ab370c\", element=\"b09cdfe3-20c0-426c-9905-f487654a6ec0\")>,\n",
       " <selenium.webdriver.remote.webelement.WebElement (session=\"26fff47b20c08029d9b03fb816ab370c\", element=\"5b20fd78-e717-479b-8edd-6b620f50e958\")>,\n",
       " <selenium.webdriver.remote.webelement.WebElement (session=\"26fff47b20c08029d9b03fb816ab370c\", element=\"8c1bdc93-7823-4bc9-84c5-72bf634567eb\")>,\n",
       " <selenium.webdriver.remote.webelement.WebElement (session=\"26fff47b20c08029d9b03fb816ab370c\", element=\"30802a42-b828-4396-becc-d5a0dc405a1e\")>,\n",
       " <selenium.webdriver.remote.webelement.WebElement (session=\"26fff47b20c08029d9b03fb816ab370c\", element=\"e85e303a-a1a8-4592-b283-98da21b331e9\")>,\n",
       " <selenium.webdriver.remote.webelement.WebElement (session=\"26fff47b20c08029d9b03fb816ab370c\", element=\"ed740ef1-5668-433c-91f5-3219d588a43a\")>,\n",
       " <selenium.webdriver.remote.webelement.WebElement (session=\"26fff47b20c08029d9b03fb816ab370c\", element=\"6f833acd-b76a-4f6d-8fa7-1b5e4d03bc58\")>,\n",
       " <selenium.webdriver.remote.webelement.WebElement (session=\"26fff47b20c08029d9b03fb816ab370c\", element=\"7512b91c-1538-44ae-ae4a-d59f9def4fa2\")>,\n",
       " <selenium.webdriver.remote.webelement.WebElement (session=\"26fff47b20c08029d9b03fb816ab370c\", element=\"b9fc0829-f9be-44d3-af7f-2c81cfad82d1\")>,\n",
       " <selenium.webdriver.remote.webelement.WebElement (session=\"26fff47b20c08029d9b03fb816ab370c\", element=\"053d3804-b8bd-4062-8e63-fa4ae5cccdb4\")>,\n",
       " <selenium.webdriver.remote.webelement.WebElement (session=\"26fff47b20c08029d9b03fb816ab370c\", element=\"4e29a736-8cdf-4542-80fa-e2468609b1e0\")>,\n",
       " <selenium.webdriver.remote.webelement.WebElement (session=\"26fff47b20c08029d9b03fb816ab370c\", element=\"d480f9cc-3538-4699-9a42-8fba08207953\")>]"
      ]
     },
     "execution_count": 10,
     "metadata": {},
     "output_type": "execute_result"
    }
   ],
   "source": [
    "TPOPageTweets"
   ]
  },
  {
   "cell_type": "code",
   "execution_count": 108,
   "metadata": {},
   "outputs": [],
   "source": [
    "TPOPageTweet = TPOPageTweets[1]\n",
    "# tweetText = TPOPageTweet.find_element(\n",
    "#     By.XPATH, \".//div[1]/div[1]/div[2]/div[2]/div[2]\").text\n",
    "# tweetTime = TPOPageTweet.find_element(\n",
    "#     By.XPATH, \".//time\").get_attribute('datetime')\n",
    "# tweetImage = TPOPageTweet.find_element(\n",
    "#     By.XPATH, \".//div[1]/div[1]/div[2]/div[2]/div[3]/div[1]/div[1]/div[1]/div[1]/div[1]/a[1]/div[1]/div[2]/div[1]/img[1]\").get_attribute(\"src\")\n",
    "# tweetImage"
   ]
  },
  {
   "cell_type": "code",
   "execution_count": 13,
   "metadata": {},
   "outputs": [],
   "source": [
    "def getTweetData(tweet):\n",
    "    try:\n",
    "        tweetTime = tweet.find_element(\n",
    "            By.XPATH, \".//time\").get_attribute('datetime')\n",
    "    except NoSuchElementException:\n",
    "        return\n",
    "    try:\n",
    "        tweetImage = tweet.find_element(\n",
    "        By.XPATH, \".//div[1]/div[1]/div[2]/div[2]/div[3]/div[1]/div[1]/div[1]/div[1]/div[1]/a[1]/div[1]/div[2]/div[1]/img[1]\").get_attribute(\"src\")\n",
    "    except NoSuchElementException:\n",
    "        print(\"no image\")\n",
    "        tweetImage = None\n",
    "    tweetText = tweet.find_element(\n",
    "        By.XPATH, \".//div[1]/div[1]/div[2]/div[2]/div[2]\").text\n",
    "    \n",
    "    tweetInfo = (tweetText, tweetTime, tweetImage)\n",
    "    return tweetInfo\n"
   ]
  },
  {
   "cell_type": "code",
   "execution_count": 17,
   "metadata": {},
   "outputs": [
    {
     "name": "stdout",
     "output_type": "stream",
     "text": [
      "no image\n"
     ]
    },
    {
     "data": {
      "text/plain": [
       "('PUBLIC SAFETY ALERT:\\n-TPS advises #Torontonians to be aware of lethal substance alleged to have been sold to individuals at risk of self-harm\\n-Sodium nitrite can be lethal in certain amounts\\n-See more info from \\n@PeelPolice\\n, including resources for help http://talksuicide.ca',\n",
       " '2023-05-03T14:23:06.000Z',\n",
       " None)"
      ]
     },
     "execution_count": 17,
     "metadata": {},
     "output_type": "execute_result"
    }
   ],
   "source": [
    "getTweetData(TPOPageTweets[5])"
   ]
  },
  {
   "cell_type": "code",
   "execution_count": 18,
   "metadata": {},
   "outputs": [
    {
     "name": "stdout",
     "output_type": "stream",
     "text": [
      "no image\n",
      "no image\n",
      "no image\n",
      "no image\n",
      "no image\n",
      "no image\n",
      "no image\n"
     ]
    }
   ],
   "source": [
    "tweetData = []\n",
    "\n",
    "for tweet in TPOPageTweets:\n",
    "    currentTweetInfo = getTweetData(tweet)\n",
    "    if currentTweetInfo:\n",
    "        tweetData.append(currentTweetInfo)"
   ]
  },
  {
   "cell_type": "code",
   "execution_count": 21,
   "metadata": {},
   "outputs": [
    {
     "data": {
      "text/plain": [
       "('HAZARD:\\nShuter St + Ontario St\\n12:24 p.m.\\n- Reports a man is throwing stuff off a balcony\\n- No reports of anyone injured\\n- Officers are on scene\\n- Use caution in the area\\n#GO984044\\n^lb',\n",
       " '2023-05-03T17:04:29.000Z',\n",
       " None)"
      ]
     },
     "execution_count": 21,
     "metadata": {},
     "output_type": "execute_result"
    }
   ],
   "source": [
    "tweetData[2]"
   ]
  },
  {
   "cell_type": "code",
   "execution_count": null,
   "metadata": {},
   "outputs": [],
   "source": [
    "driver.execute_script('window_scrollTo(0,document.body.scrollHeight)')"
   ]
  },
  {
   "cell_type": "code",
   "execution_count": null,
   "metadata": {},
   "outputs": [],
   "source": []
  }
 ],
 "metadata": {
  "kernelspec": {
   "display_name": "venv",
   "language": "python",
   "name": "python3"
  },
  "language_info": {
   "codemirror_mode": {
    "name": "ipython",
    "version": 3
   },
   "file_extension": ".py",
   "mimetype": "text/x-python",
   "name": "python",
   "nbconvert_exporter": "python",
   "pygments_lexer": "ipython3",
   "version": "3.11.3"
  },
  "orig_nbformat": 4
 },
 "nbformat": 4,
 "nbformat_minor": 2
}
