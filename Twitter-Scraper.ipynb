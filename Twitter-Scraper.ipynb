{
 "cells": [
  {
   "cell_type": "code",
   "execution_count": 86,
   "metadata": {},
   "outputs": [],
   "source": [
    "from getpass import getpass\n",
    "from time import sleep\n",
    "from selenium.webdriver.common.keys import Keys\n",
    "from selenium.common.exceptions import NoSuchElementException\n",
    "from selenium.webdriver.common.by import By\n",
    "from selenium import webdriver\n"
   ]
  },
  {
   "cell_type": "code",
   "execution_count": 87,
   "metadata": {},
   "outputs": [],
   "source": [
    "# Setting up driver\n",
    "driver = webdriver.Chrome()\n",
    "driver.maximize_window()\n",
    "driver.get('https://www.twitter.com/login')"
   ]
  },
  {
   "cell_type": "code",
   "execution_count": 89,
   "metadata": {},
   "outputs": [],
   "source": [
    "# Finding and inputing username\n",
    "username = driver.find_element(By.XPATH, \"//body/div[@id='react-root']/div[1]/div[1]/div[1]/div[1]/div[1]/div[1]/div[1]/div[1]/div[1]/div[2]/div[2]/div[1]/div[1]/div[2]/div[2]/div[1]/div[1]/div[1]/div[5]/label[1]/div[1]/div[2]/div[1]/input[1]\")\n",
    "username.send_keys('HumzaAamir88010')\n",
    "username.send_keys(Keys.RETURN)\n",
    "\n",
    "        \n"
   ]
  },
  {
   "cell_type": "code",
   "execution_count": 50,
   "metadata": {},
   "outputs": [],
   "source": [
    "mypassword = getpass()"
   ]
  },
  {
   "cell_type": "code",
   "execution_count": 90,
   "metadata": {},
   "outputs": [],
   "source": [
    "# Finding and inputing Password\n",
    "password = driver.find_element(By.XPATH, \"//body/div[@id='react-root']/div[1]/div[1]/div[1]/div[1]/div[1]/div[1]/div[1]/div[1]/div[1]/div[2]/div[2]/div[1]/div[1]/div[2]/div[2]/div[1]/div[1]/div[1]/div[3]/div[1]/label[1]/div[1]/div[2]/div[1]/input[1]\")\n",
    "password.send_keys(mypassword)\n",
    "password.send_keys(Keys.RETURN)\n"
   ]
  },
  {
   "cell_type": "code",
   "execution_count": 91,
   "metadata": {},
   "outputs": [],
   "source": [
    "# Selecting and searching required police section\n",
    "search = driver.find_element(By.XPATH, \"//body/div[@id='react-root']/div[1]/div[1]/div[2]/main[1]/div[1]/div[1]/div[1]/div[2]/div[1]/div[2]/div[1]/div[1]/div[1]/div[1]/div[1]/div[1]/div[1]/form[1]/div[1]/div[1]/div[1]/div[1]/label[1]/div[2]/div[1]/input[1]\")\n",
    "search.send_keys('@TPSOperations')\n",
    "search.send_keys(Keys.RETURN)\n"
   ]
  },
  {
   "cell_type": "code",
   "execution_count": 92,
   "metadata": {},
   "outputs": [],
   "source": [
    "SearchQuery = driver.find_element(By.XPATH, \"//span[contains(text(),'Toronto Police Operations')]\")\n",
    "SearchQuery.click()"
   ]
  },
  {
   "cell_type": "code",
   "execution_count": 93,
   "metadata": {},
   "outputs": [],
   "source": [
    "TPOPageTweets = driver.find_elements(By.XPATH, '//article[@data-testid=\"tweet\"]')\n"
   ]
  },
  {
   "cell_type": "code",
   "execution_count": 115,
   "metadata": {},
   "outputs": [
    {
     "data": {
      "text/plain": [
       "[<selenium.webdriver.remote.webelement.WebElement (session=\"be5b26be557a9d99e09cc4ffac1eb647\", element=\"45029ec5-cdf6-4ea9-8773-c0a724bd811e\")>,\n",
       " <selenium.webdriver.remote.webelement.WebElement (session=\"be5b26be557a9d99e09cc4ffac1eb647\", element=\"9adfe127-11f2-4446-9ab9-60277dc0b2d3\")>,\n",
       " <selenium.webdriver.remote.webelement.WebElement (session=\"be5b26be557a9d99e09cc4ffac1eb647\", element=\"ce1ecc24-f64a-4c25-85f5-a667bed3d700\")>,\n",
       " <selenium.webdriver.remote.webelement.WebElement (session=\"be5b26be557a9d99e09cc4ffac1eb647\", element=\"dc72d416-eba0-4b9b-b2ff-cf98785487dc\")>,\n",
       " <selenium.webdriver.remote.webelement.WebElement (session=\"be5b26be557a9d99e09cc4ffac1eb647\", element=\"06619c76-5e9c-4074-a67d-089fa97284b2\")>,\n",
       " <selenium.webdriver.remote.webelement.WebElement (session=\"be5b26be557a9d99e09cc4ffac1eb647\", element=\"a5b9e345-a98d-41d0-a3e2-c866fa0f7f2f\")>,\n",
       " <selenium.webdriver.remote.webelement.WebElement (session=\"be5b26be557a9d99e09cc4ffac1eb647\", element=\"9adf1179-cb57-4972-b3ae-3a5775bc82fe\")>,\n",
       " <selenium.webdriver.remote.webelement.WebElement (session=\"be5b26be557a9d99e09cc4ffac1eb647\", element=\"7e2c1443-b787-4deb-b3f9-18b364f4d4d9\")>,\n",
       " <selenium.webdriver.remote.webelement.WebElement (session=\"be5b26be557a9d99e09cc4ffac1eb647\", element=\"01ec0cea-1c2f-4cda-8601-f96e85693cf2\")>,\n",
       " <selenium.webdriver.remote.webelement.WebElement (session=\"be5b26be557a9d99e09cc4ffac1eb647\", element=\"31134f5e-fd9b-4f05-902e-16e297a5b96e\")>,\n",
       " <selenium.webdriver.remote.webelement.WebElement (session=\"be5b26be557a9d99e09cc4ffac1eb647\", element=\"92af6abb-c475-4c94-9f12-8fb737fcbf53\")>]"
      ]
     },
     "execution_count": 115,
     "metadata": {},
     "output_type": "execute_result"
    }
   ],
   "source": [
    "TPOPageTweets"
   ]
  },
  {
   "cell_type": "code",
   "execution_count": null,
   "metadata": {},
   "outputs": [],
   "source": [
    "TPOPageTweet = TPOPageTweets[2]\n",
    "TPOPageTweet.find_element(By.XPATH, \".//div[1]/div[1]/div[2]/div[2]/div[1]\").text"
   ]
  }
 ],
 "metadata": {
  "kernelspec": {
   "display_name": "venv",
   "language": "python",
   "name": "python3"
  },
  "language_info": {
   "codemirror_mode": {
    "name": "ipython",
    "version": 3
   },
   "file_extension": ".py",
   "mimetype": "text/x-python",
   "name": "python",
   "nbconvert_exporter": "python",
   "pygments_lexer": "ipython3",
   "version": "3.11.3"
  },
  "orig_nbformat": 4
 },
 "nbformat": 4,
 "nbformat_minor": 2
}
